{
  "nbformat": 4,
  "nbformat_minor": 0,
  "metadata": {
    "colab": {
      "provenance": [],
      "gpuType": "T4",
      "authorship_tag": "ABX9TyNTynDDfYdZCKakOmu3HnbL",
      "include_colab_link": true
    },
    "kernelspec": {
      "name": "python3",
      "display_name": "Python 3"
    },
    "language_info": {
      "name": "python"
    },
    "accelerator": "GPU"
  },
  "cells": [
    {
      "cell_type": "markdown",
      "metadata": {
        "id": "view-in-github",
        "colab_type": "text"
      },
      "source": [
        "<a href=\"https://colab.research.google.com/github/Auzek2002/Iris_Classification_Using_ANN/blob/main/Iris_Classification_ANN.ipynb\" target=\"_parent\"><img src=\"https://colab.research.google.com/assets/colab-badge.svg\" alt=\"Open In Colab\"/></a>"
      ]
    },
    {
      "cell_type": "markdown",
      "source": [
        "# Importing Libs:"
      ],
      "metadata": {
        "id": "T2n6S83ObYrM"
      }
    },
    {
      "cell_type": "code",
      "execution_count": 209,
      "metadata": {
        "id": "XcKiGt5nbCkS"
      },
      "outputs": [],
      "source": [
        "import numpy as np\n",
        "import pandas as pd\n",
        "import tensorflow as tf\n",
        "import matplotlib.pyplot as plt\n",
        "import cv2 as cv\n",
        "from tensorflow.keras import datasets,layers,Sequential\n",
        "from tensorflow.keras.layers import Conv2D,MaxPooling2D,Dense,Flatten,Dropout\n",
        "from sklearn import datasets\n",
        "from sklearn.preprocessing import StandardScaler\n",
        "from sklearn.model_selection import train_test_split"
      ]
    },
    {
      "cell_type": "markdown",
      "source": [
        "# **Loading the DataSet**"
      ],
      "metadata": {
        "id": "sevr5mMsbovM"
      }
    },
    {
      "cell_type": "code",
      "source": [
        "df = datasets.load_iris()"
      ],
      "metadata": {
        "id": "1BjQOuuebmiO"
      },
      "execution_count": 210,
      "outputs": []
    },
    {
      "cell_type": "code",
      "source": [
        "type(df)"
      ],
      "metadata": {
        "colab": {
          "base_uri": "https://localhost:8080/",
          "height": 187
        },
        "id": "AF4rEMdebzYu",
        "outputId": "13256dca-ebe3-47e5-9dbf-d85cbdb797db"
      },
      "execution_count": 211,
      "outputs": [
        {
          "output_type": "execute_result",
          "data": {
            "text/plain": [
              "sklearn.utils._bunch.Bunch"
            ],
            "text/html": [
              "<div style=\"max-width:800px; border: 1px solid var(--colab-border-color);\"><style>\n",
              "      pre.function-repr-contents {\n",
              "        overflow-x: auto;\n",
              "        padding: 8px 12px;\n",
              "        max-height: 500px;\n",
              "      }\n",
              "\n",
              "      pre.function-repr-contents.function-repr-contents-collapsed {\n",
              "        cursor: pointer;\n",
              "        max-height: 100px;\n",
              "      }\n",
              "    </style>\n",
              "    <pre style=\"white-space: initial; background:\n",
              "         var(--colab-secondary-surface-color); padding: 8px 12px;\n",
              "         border-bottom: 1px solid var(--colab-border-color);\"><b>sklearn.utils._bunch.Bunch</b><br/>def __init__(**kwargs)</pre><pre class=\"function-repr-contents function-repr-contents-collapsed\" style=\"\"><a class=\"filepath\" style=\"display:none\" href=\"#\">/usr/local/lib/python3.10/dist-packages/sklearn/utils/_bunch.py</a>Container object exposing keys as attributes.\n",
              "\n",
              "Bunch objects are sometimes used as an output for functions and methods.\n",
              "They extend dictionaries by enabling values to be accessed by key,\n",
              "`bunch[&quot;value_key&quot;]`, or by an attribute, `bunch.value_key`.\n",
              "\n",
              "Examples\n",
              "--------\n",
              "&gt;&gt;&gt; from sklearn.utils import Bunch\n",
              "&gt;&gt;&gt; b = Bunch(a=1, b=2)\n",
              "&gt;&gt;&gt; b[&#x27;b&#x27;]\n",
              "2\n",
              "&gt;&gt;&gt; b.b\n",
              "2\n",
              "&gt;&gt;&gt; b.a = 3\n",
              "&gt;&gt;&gt; b[&#x27;a&#x27;]\n",
              "3\n",
              "&gt;&gt;&gt; b.c = 6\n",
              "&gt;&gt;&gt; b[&#x27;c&#x27;]\n",
              "6</pre>\n",
              "      <script>\n",
              "      if (google.colab.kernel.accessAllowed && google.colab.files && google.colab.files.view) {\n",
              "        for (const element of document.querySelectorAll('.filepath')) {\n",
              "          element.style.display = 'block'\n",
              "          element.onclick = (event) => {\n",
              "            event.preventDefault();\n",
              "            event.stopPropagation();\n",
              "            google.colab.files.view(element.textContent, 1);\n",
              "          };\n",
              "        }\n",
              "      }\n",
              "      for (const element of document.querySelectorAll('.function-repr-contents')) {\n",
              "        element.onclick = (event) => {\n",
              "          event.preventDefault();\n",
              "          event.stopPropagation();\n",
              "          element.classList.toggle('function-repr-contents-collapsed');\n",
              "        };\n",
              "      }\n",
              "      </script>\n",
              "      </div>"
            ]
          },
          "metadata": {},
          "execution_count": 211
        }
      ]
    },
    {
      "cell_type": "code",
      "source": [
        "df.data"
      ],
      "metadata": {
        "colab": {
          "base_uri": "https://localhost:8080/"
        },
        "id": "1S7Fzjh-b1ic",
        "outputId": "7f00b9c3-c3ec-44b5-e5fe-231c264c5e65"
      },
      "execution_count": 212,
      "outputs": [
        {
          "output_type": "execute_result",
          "data": {
            "text/plain": [
              "array([[5.1, 3.5, 1.4, 0.2],\n",
              "       [4.9, 3. , 1.4, 0.2],\n",
              "       [4.7, 3.2, 1.3, 0.2],\n",
              "       [4.6, 3.1, 1.5, 0.2],\n",
              "       [5. , 3.6, 1.4, 0.2],\n",
              "       [5.4, 3.9, 1.7, 0.4],\n",
              "       [4.6, 3.4, 1.4, 0.3],\n",
              "       [5. , 3.4, 1.5, 0.2],\n",
              "       [4.4, 2.9, 1.4, 0.2],\n",
              "       [4.9, 3.1, 1.5, 0.1],\n",
              "       [5.4, 3.7, 1.5, 0.2],\n",
              "       [4.8, 3.4, 1.6, 0.2],\n",
              "       [4.8, 3. , 1.4, 0.1],\n",
              "       [4.3, 3. , 1.1, 0.1],\n",
              "       [5.8, 4. , 1.2, 0.2],\n",
              "       [5.7, 4.4, 1.5, 0.4],\n",
              "       [5.4, 3.9, 1.3, 0.4],\n",
              "       [5.1, 3.5, 1.4, 0.3],\n",
              "       [5.7, 3.8, 1.7, 0.3],\n",
              "       [5.1, 3.8, 1.5, 0.3],\n",
              "       [5.4, 3.4, 1.7, 0.2],\n",
              "       [5.1, 3.7, 1.5, 0.4],\n",
              "       [4.6, 3.6, 1. , 0.2],\n",
              "       [5.1, 3.3, 1.7, 0.5],\n",
              "       [4.8, 3.4, 1.9, 0.2],\n",
              "       [5. , 3. , 1.6, 0.2],\n",
              "       [5. , 3.4, 1.6, 0.4],\n",
              "       [5.2, 3.5, 1.5, 0.2],\n",
              "       [5.2, 3.4, 1.4, 0.2],\n",
              "       [4.7, 3.2, 1.6, 0.2],\n",
              "       [4.8, 3.1, 1.6, 0.2],\n",
              "       [5.4, 3.4, 1.5, 0.4],\n",
              "       [5.2, 4.1, 1.5, 0.1],\n",
              "       [5.5, 4.2, 1.4, 0.2],\n",
              "       [4.9, 3.1, 1.5, 0.2],\n",
              "       [5. , 3.2, 1.2, 0.2],\n",
              "       [5.5, 3.5, 1.3, 0.2],\n",
              "       [4.9, 3.6, 1.4, 0.1],\n",
              "       [4.4, 3. , 1.3, 0.2],\n",
              "       [5.1, 3.4, 1.5, 0.2],\n",
              "       [5. , 3.5, 1.3, 0.3],\n",
              "       [4.5, 2.3, 1.3, 0.3],\n",
              "       [4.4, 3.2, 1.3, 0.2],\n",
              "       [5. , 3.5, 1.6, 0.6],\n",
              "       [5.1, 3.8, 1.9, 0.4],\n",
              "       [4.8, 3. , 1.4, 0.3],\n",
              "       [5.1, 3.8, 1.6, 0.2],\n",
              "       [4.6, 3.2, 1.4, 0.2],\n",
              "       [5.3, 3.7, 1.5, 0.2],\n",
              "       [5. , 3.3, 1.4, 0.2],\n",
              "       [7. , 3.2, 4.7, 1.4],\n",
              "       [6.4, 3.2, 4.5, 1.5],\n",
              "       [6.9, 3.1, 4.9, 1.5],\n",
              "       [5.5, 2.3, 4. , 1.3],\n",
              "       [6.5, 2.8, 4.6, 1.5],\n",
              "       [5.7, 2.8, 4.5, 1.3],\n",
              "       [6.3, 3.3, 4.7, 1.6],\n",
              "       [4.9, 2.4, 3.3, 1. ],\n",
              "       [6.6, 2.9, 4.6, 1.3],\n",
              "       [5.2, 2.7, 3.9, 1.4],\n",
              "       [5. , 2. , 3.5, 1. ],\n",
              "       [5.9, 3. , 4.2, 1.5],\n",
              "       [6. , 2.2, 4. , 1. ],\n",
              "       [6.1, 2.9, 4.7, 1.4],\n",
              "       [5.6, 2.9, 3.6, 1.3],\n",
              "       [6.7, 3.1, 4.4, 1.4],\n",
              "       [5.6, 3. , 4.5, 1.5],\n",
              "       [5.8, 2.7, 4.1, 1. ],\n",
              "       [6.2, 2.2, 4.5, 1.5],\n",
              "       [5.6, 2.5, 3.9, 1.1],\n",
              "       [5.9, 3.2, 4.8, 1.8],\n",
              "       [6.1, 2.8, 4. , 1.3],\n",
              "       [6.3, 2.5, 4.9, 1.5],\n",
              "       [6.1, 2.8, 4.7, 1.2],\n",
              "       [6.4, 2.9, 4.3, 1.3],\n",
              "       [6.6, 3. , 4.4, 1.4],\n",
              "       [6.8, 2.8, 4.8, 1.4],\n",
              "       [6.7, 3. , 5. , 1.7],\n",
              "       [6. , 2.9, 4.5, 1.5],\n",
              "       [5.7, 2.6, 3.5, 1. ],\n",
              "       [5.5, 2.4, 3.8, 1.1],\n",
              "       [5.5, 2.4, 3.7, 1. ],\n",
              "       [5.8, 2.7, 3.9, 1.2],\n",
              "       [6. , 2.7, 5.1, 1.6],\n",
              "       [5.4, 3. , 4.5, 1.5],\n",
              "       [6. , 3.4, 4.5, 1.6],\n",
              "       [6.7, 3.1, 4.7, 1.5],\n",
              "       [6.3, 2.3, 4.4, 1.3],\n",
              "       [5.6, 3. , 4.1, 1.3],\n",
              "       [5.5, 2.5, 4. , 1.3],\n",
              "       [5.5, 2.6, 4.4, 1.2],\n",
              "       [6.1, 3. , 4.6, 1.4],\n",
              "       [5.8, 2.6, 4. , 1.2],\n",
              "       [5. , 2.3, 3.3, 1. ],\n",
              "       [5.6, 2.7, 4.2, 1.3],\n",
              "       [5.7, 3. , 4.2, 1.2],\n",
              "       [5.7, 2.9, 4.2, 1.3],\n",
              "       [6.2, 2.9, 4.3, 1.3],\n",
              "       [5.1, 2.5, 3. , 1.1],\n",
              "       [5.7, 2.8, 4.1, 1.3],\n",
              "       [6.3, 3.3, 6. , 2.5],\n",
              "       [5.8, 2.7, 5.1, 1.9],\n",
              "       [7.1, 3. , 5.9, 2.1],\n",
              "       [6.3, 2.9, 5.6, 1.8],\n",
              "       [6.5, 3. , 5.8, 2.2],\n",
              "       [7.6, 3. , 6.6, 2.1],\n",
              "       [4.9, 2.5, 4.5, 1.7],\n",
              "       [7.3, 2.9, 6.3, 1.8],\n",
              "       [6.7, 2.5, 5.8, 1.8],\n",
              "       [7.2, 3.6, 6.1, 2.5],\n",
              "       [6.5, 3.2, 5.1, 2. ],\n",
              "       [6.4, 2.7, 5.3, 1.9],\n",
              "       [6.8, 3. , 5.5, 2.1],\n",
              "       [5.7, 2.5, 5. , 2. ],\n",
              "       [5.8, 2.8, 5.1, 2.4],\n",
              "       [6.4, 3.2, 5.3, 2.3],\n",
              "       [6.5, 3. , 5.5, 1.8],\n",
              "       [7.7, 3.8, 6.7, 2.2],\n",
              "       [7.7, 2.6, 6.9, 2.3],\n",
              "       [6. , 2.2, 5. , 1.5],\n",
              "       [6.9, 3.2, 5.7, 2.3],\n",
              "       [5.6, 2.8, 4.9, 2. ],\n",
              "       [7.7, 2.8, 6.7, 2. ],\n",
              "       [6.3, 2.7, 4.9, 1.8],\n",
              "       [6.7, 3.3, 5.7, 2.1],\n",
              "       [7.2, 3.2, 6. , 1.8],\n",
              "       [6.2, 2.8, 4.8, 1.8],\n",
              "       [6.1, 3. , 4.9, 1.8],\n",
              "       [6.4, 2.8, 5.6, 2.1],\n",
              "       [7.2, 3. , 5.8, 1.6],\n",
              "       [7.4, 2.8, 6.1, 1.9],\n",
              "       [7.9, 3.8, 6.4, 2. ],\n",
              "       [6.4, 2.8, 5.6, 2.2],\n",
              "       [6.3, 2.8, 5.1, 1.5],\n",
              "       [6.1, 2.6, 5.6, 1.4],\n",
              "       [7.7, 3. , 6.1, 2.3],\n",
              "       [6.3, 3.4, 5.6, 2.4],\n",
              "       [6.4, 3.1, 5.5, 1.8],\n",
              "       [6. , 3. , 4.8, 1.8],\n",
              "       [6.9, 3.1, 5.4, 2.1],\n",
              "       [6.7, 3.1, 5.6, 2.4],\n",
              "       [6.9, 3.1, 5.1, 2.3],\n",
              "       [5.8, 2.7, 5.1, 1.9],\n",
              "       [6.8, 3.2, 5.9, 2.3],\n",
              "       [6.7, 3.3, 5.7, 2.5],\n",
              "       [6.7, 3. , 5.2, 2.3],\n",
              "       [6.3, 2.5, 5. , 1.9],\n",
              "       [6.5, 3. , 5.2, 2. ],\n",
              "       [6.2, 3.4, 5.4, 2.3],\n",
              "       [5.9, 3. , 5.1, 1.8]])"
            ]
          },
          "metadata": {},
          "execution_count": 212
        }
      ]
    },
    {
      "cell_type": "code",
      "source": [
        "df.feature_names"
      ],
      "metadata": {
        "colab": {
          "base_uri": "https://localhost:8080/"
        },
        "id": "Y8jlGnE4cGdl",
        "outputId": "fe170abf-941d-454a-9318-32ae058aa393"
      },
      "execution_count": 213,
      "outputs": [
        {
          "output_type": "execute_result",
          "data": {
            "text/plain": [
              "['sepal length (cm)',\n",
              " 'sepal width (cm)',\n",
              " 'petal length (cm)',\n",
              " 'petal width (cm)']"
            ]
          },
          "metadata": {},
          "execution_count": 213
        }
      ]
    },
    {
      "cell_type": "code",
      "source": [
        "class_names = df.target_names"
      ],
      "metadata": {
        "id": "jPBW3YlXcJwF"
      },
      "execution_count": 214,
      "outputs": []
    },
    {
      "cell_type": "code",
      "source": [
        "class_names"
      ],
      "metadata": {
        "colab": {
          "base_uri": "https://localhost:8080/"
        },
        "id": "fzP51dkIdtsE",
        "outputId": "2895f367-90d6-4244-a5a4-3ead130988e5"
      },
      "execution_count": 215,
      "outputs": [
        {
          "output_type": "execute_result",
          "data": {
            "text/plain": [
              "array(['setosa', 'versicolor', 'virginica'], dtype='<U10')"
            ]
          },
          "metadata": {},
          "execution_count": 215
        }
      ]
    },
    {
      "cell_type": "code",
      "source": [
        "x = df.data"
      ],
      "metadata": {
        "id": "gTwleXaQcivs"
      },
      "execution_count": 216,
      "outputs": []
    },
    {
      "cell_type": "code",
      "source": [
        "y=df.target"
      ],
      "metadata": {
        "id": "jg0bkUqSdFAQ"
      },
      "execution_count": 217,
      "outputs": []
    },
    {
      "cell_type": "code",
      "source": [
        "print(x)"
      ],
      "metadata": {
        "colab": {
          "base_uri": "https://localhost:8080/"
        },
        "id": "-ijFGnkddnjq",
        "outputId": "0962f294-b404-46f3-a435-5ead573f9257"
      },
      "execution_count": 218,
      "outputs": [
        {
          "output_type": "stream",
          "name": "stdout",
          "text": [
            "[[5.1 3.5 1.4 0.2]\n",
            " [4.9 3.  1.4 0.2]\n",
            " [4.7 3.2 1.3 0.2]\n",
            " [4.6 3.1 1.5 0.2]\n",
            " [5.  3.6 1.4 0.2]\n",
            " [5.4 3.9 1.7 0.4]\n",
            " [4.6 3.4 1.4 0.3]\n",
            " [5.  3.4 1.5 0.2]\n",
            " [4.4 2.9 1.4 0.2]\n",
            " [4.9 3.1 1.5 0.1]\n",
            " [5.4 3.7 1.5 0.2]\n",
            " [4.8 3.4 1.6 0.2]\n",
            " [4.8 3.  1.4 0.1]\n",
            " [4.3 3.  1.1 0.1]\n",
            " [5.8 4.  1.2 0.2]\n",
            " [5.7 4.4 1.5 0.4]\n",
            " [5.4 3.9 1.3 0.4]\n",
            " [5.1 3.5 1.4 0.3]\n",
            " [5.7 3.8 1.7 0.3]\n",
            " [5.1 3.8 1.5 0.3]\n",
            " [5.4 3.4 1.7 0.2]\n",
            " [5.1 3.7 1.5 0.4]\n",
            " [4.6 3.6 1.  0.2]\n",
            " [5.1 3.3 1.7 0.5]\n",
            " [4.8 3.4 1.9 0.2]\n",
            " [5.  3.  1.6 0.2]\n",
            " [5.  3.4 1.6 0.4]\n",
            " [5.2 3.5 1.5 0.2]\n",
            " [5.2 3.4 1.4 0.2]\n",
            " [4.7 3.2 1.6 0.2]\n",
            " [4.8 3.1 1.6 0.2]\n",
            " [5.4 3.4 1.5 0.4]\n",
            " [5.2 4.1 1.5 0.1]\n",
            " [5.5 4.2 1.4 0.2]\n",
            " [4.9 3.1 1.5 0.2]\n",
            " [5.  3.2 1.2 0.2]\n",
            " [5.5 3.5 1.3 0.2]\n",
            " [4.9 3.6 1.4 0.1]\n",
            " [4.4 3.  1.3 0.2]\n",
            " [5.1 3.4 1.5 0.2]\n",
            " [5.  3.5 1.3 0.3]\n",
            " [4.5 2.3 1.3 0.3]\n",
            " [4.4 3.2 1.3 0.2]\n",
            " [5.  3.5 1.6 0.6]\n",
            " [5.1 3.8 1.9 0.4]\n",
            " [4.8 3.  1.4 0.3]\n",
            " [5.1 3.8 1.6 0.2]\n",
            " [4.6 3.2 1.4 0.2]\n",
            " [5.3 3.7 1.5 0.2]\n",
            " [5.  3.3 1.4 0.2]\n",
            " [7.  3.2 4.7 1.4]\n",
            " [6.4 3.2 4.5 1.5]\n",
            " [6.9 3.1 4.9 1.5]\n",
            " [5.5 2.3 4.  1.3]\n",
            " [6.5 2.8 4.6 1.5]\n",
            " [5.7 2.8 4.5 1.3]\n",
            " [6.3 3.3 4.7 1.6]\n",
            " [4.9 2.4 3.3 1. ]\n",
            " [6.6 2.9 4.6 1.3]\n",
            " [5.2 2.7 3.9 1.4]\n",
            " [5.  2.  3.5 1. ]\n",
            " [5.9 3.  4.2 1.5]\n",
            " [6.  2.2 4.  1. ]\n",
            " [6.1 2.9 4.7 1.4]\n",
            " [5.6 2.9 3.6 1.3]\n",
            " [6.7 3.1 4.4 1.4]\n",
            " [5.6 3.  4.5 1.5]\n",
            " [5.8 2.7 4.1 1. ]\n",
            " [6.2 2.2 4.5 1.5]\n",
            " [5.6 2.5 3.9 1.1]\n",
            " [5.9 3.2 4.8 1.8]\n",
            " [6.1 2.8 4.  1.3]\n",
            " [6.3 2.5 4.9 1.5]\n",
            " [6.1 2.8 4.7 1.2]\n",
            " [6.4 2.9 4.3 1.3]\n",
            " [6.6 3.  4.4 1.4]\n",
            " [6.8 2.8 4.8 1.4]\n",
            " [6.7 3.  5.  1.7]\n",
            " [6.  2.9 4.5 1.5]\n",
            " [5.7 2.6 3.5 1. ]\n",
            " [5.5 2.4 3.8 1.1]\n",
            " [5.5 2.4 3.7 1. ]\n",
            " [5.8 2.7 3.9 1.2]\n",
            " [6.  2.7 5.1 1.6]\n",
            " [5.4 3.  4.5 1.5]\n",
            " [6.  3.4 4.5 1.6]\n",
            " [6.7 3.1 4.7 1.5]\n",
            " [6.3 2.3 4.4 1.3]\n",
            " [5.6 3.  4.1 1.3]\n",
            " [5.5 2.5 4.  1.3]\n",
            " [5.5 2.6 4.4 1.2]\n",
            " [6.1 3.  4.6 1.4]\n",
            " [5.8 2.6 4.  1.2]\n",
            " [5.  2.3 3.3 1. ]\n",
            " [5.6 2.7 4.2 1.3]\n",
            " [5.7 3.  4.2 1.2]\n",
            " [5.7 2.9 4.2 1.3]\n",
            " [6.2 2.9 4.3 1.3]\n",
            " [5.1 2.5 3.  1.1]\n",
            " [5.7 2.8 4.1 1.3]\n",
            " [6.3 3.3 6.  2.5]\n",
            " [5.8 2.7 5.1 1.9]\n",
            " [7.1 3.  5.9 2.1]\n",
            " [6.3 2.9 5.6 1.8]\n",
            " [6.5 3.  5.8 2.2]\n",
            " [7.6 3.  6.6 2.1]\n",
            " [4.9 2.5 4.5 1.7]\n",
            " [7.3 2.9 6.3 1.8]\n",
            " [6.7 2.5 5.8 1.8]\n",
            " [7.2 3.6 6.1 2.5]\n",
            " [6.5 3.2 5.1 2. ]\n",
            " [6.4 2.7 5.3 1.9]\n",
            " [6.8 3.  5.5 2.1]\n",
            " [5.7 2.5 5.  2. ]\n",
            " [5.8 2.8 5.1 2.4]\n",
            " [6.4 3.2 5.3 2.3]\n",
            " [6.5 3.  5.5 1.8]\n",
            " [7.7 3.8 6.7 2.2]\n",
            " [7.7 2.6 6.9 2.3]\n",
            " [6.  2.2 5.  1.5]\n",
            " [6.9 3.2 5.7 2.3]\n",
            " [5.6 2.8 4.9 2. ]\n",
            " [7.7 2.8 6.7 2. ]\n",
            " [6.3 2.7 4.9 1.8]\n",
            " [6.7 3.3 5.7 2.1]\n",
            " [7.2 3.2 6.  1.8]\n",
            " [6.2 2.8 4.8 1.8]\n",
            " [6.1 3.  4.9 1.8]\n",
            " [6.4 2.8 5.6 2.1]\n",
            " [7.2 3.  5.8 1.6]\n",
            " [7.4 2.8 6.1 1.9]\n",
            " [7.9 3.8 6.4 2. ]\n",
            " [6.4 2.8 5.6 2.2]\n",
            " [6.3 2.8 5.1 1.5]\n",
            " [6.1 2.6 5.6 1.4]\n",
            " [7.7 3.  6.1 2.3]\n",
            " [6.3 3.4 5.6 2.4]\n",
            " [6.4 3.1 5.5 1.8]\n",
            " [6.  3.  4.8 1.8]\n",
            " [6.9 3.1 5.4 2.1]\n",
            " [6.7 3.1 5.6 2.4]\n",
            " [6.9 3.1 5.1 2.3]\n",
            " [5.8 2.7 5.1 1.9]\n",
            " [6.8 3.2 5.9 2.3]\n",
            " [6.7 3.3 5.7 2.5]\n",
            " [6.7 3.  5.2 2.3]\n",
            " [6.3 2.5 5.  1.9]\n",
            " [6.5 3.  5.2 2. ]\n",
            " [6.2 3.4 5.4 2.3]\n",
            " [5.9 3.  5.1 1.8]]\n"
          ]
        }
      ]
    },
    {
      "cell_type": "code",
      "source": [
        "print(y)"
      ],
      "metadata": {
        "colab": {
          "base_uri": "https://localhost:8080/"
        },
        "id": "bwbIL9pndRKn",
        "outputId": "f0361c0a-acbf-452a-ffd1-5ec19e882a3c"
      },
      "execution_count": 219,
      "outputs": [
        {
          "output_type": "stream",
          "name": "stdout",
          "text": [
            "[0 0 0 0 0 0 0 0 0 0 0 0 0 0 0 0 0 0 0 0 0 0 0 0 0 0 0 0 0 0 0 0 0 0 0 0 0\n",
            " 0 0 0 0 0 0 0 0 0 0 0 0 0 1 1 1 1 1 1 1 1 1 1 1 1 1 1 1 1 1 1 1 1 1 1 1 1\n",
            " 1 1 1 1 1 1 1 1 1 1 1 1 1 1 1 1 1 1 1 1 1 1 1 1 1 1 2 2 2 2 2 2 2 2 2 2 2\n",
            " 2 2 2 2 2 2 2 2 2 2 2 2 2 2 2 2 2 2 2 2 2 2 2 2 2 2 2 2 2 2 2 2 2 2 2 2 2\n",
            " 2 2]\n"
          ]
        }
      ]
    },
    {
      "cell_type": "markdown",
      "source": [
        "# **Split the Data into Training and Testing Samples**"
      ],
      "metadata": {
        "id": "3WRKh0sKeYB9"
      }
    },
    {
      "cell_type": "code",
      "source": [
        "x_train,x_test,y_train,y_test = train_test_split(x,y,test_size=0.05,random_state=42)"
      ],
      "metadata": {
        "id": "M4BJh8CzepjU"
      },
      "execution_count": 220,
      "outputs": []
    },
    {
      "cell_type": "markdown",
      "source": [
        "# **Feature Scaling**"
      ],
      "metadata": {
        "id": "rdx7dK5unHzY"
      }
    },
    {
      "cell_type": "markdown",
      "source": [
        "Before scaling:"
      ],
      "metadata": {
        "id": "X20nYpxInbLK"
      }
    },
    {
      "cell_type": "code",
      "source": [
        "print(f\"Max value of train features is: {np.max(x_train)} and Min value of train features is: {np.min(x_train)}\")\n",
        "print(f\"Max value of test features is: {np.max(x_test)} and Min value of test features is: {np.min(x_test)}\")"
      ],
      "metadata": {
        "colab": {
          "base_uri": "https://localhost:8080/"
        },
        "id": "9Xuf6ZqHnLOK",
        "outputId": "d06048d0-79e3-485c-c53f-b16084c2c578"
      },
      "execution_count": 221,
      "outputs": [
        {
          "output_type": "stream",
          "name": "stdout",
          "text": [
            "Max value of train features is: 7.9 and Min value of train features is: 0.1\n",
            "Max value of test features is: 7.7 and Min value of test features is: 0.3\n"
          ]
        }
      ]
    },
    {
      "cell_type": "code",
      "source": [
        "scaler = StandardScaler()"
      ],
      "metadata": {
        "id": "sV5hb9p5ms6O"
      },
      "execution_count": 222,
      "outputs": []
    },
    {
      "cell_type": "code",
      "source": [
        "x_train = scaler.fit_transform(x_train)\n",
        "x_test = scaler.transform(x_test)"
      ],
      "metadata": {
        "id": "4InJJqXMmuEx"
      },
      "execution_count": 223,
      "outputs": []
    },
    {
      "cell_type": "markdown",
      "source": [
        "After scaling:"
      ],
      "metadata": {
        "id": "4dWHWsQkndz-"
      }
    },
    {
      "cell_type": "code",
      "source": [
        "print(f\"Max value of train features is: {np.max(x_train)} and Min value of train features is: {np.min(x_train)}\")\n",
        "print(f\"Max value of test features is: {np.max(x_test)} and Min value of test features is: {np.min(x_test)}\")"
      ],
      "metadata": {
        "colab": {
          "base_uri": "https://localhost:8080/"
        },
        "id": "rptB6xMTnZxR",
        "outputId": "e6ed8935-52d4-47d8-d86b-96f2489f4e18"
      },
      "execution_count": 224,
      "outputs": [
        {
          "output_type": "stream",
          "name": "stdout",
          "text": [
            "Max value of train features is: 3.0627286721571356 and Min value of train features is: -2.4164205744105907\n",
            "Max value of test features is: 2.2848354463998333 and Min value of test features is: -1.2707685793652905\n"
          ]
        }
      ]
    },
    {
      "cell_type": "markdown",
      "source": [
        "# **Building the Neural Network**"
      ],
      "metadata": {
        "id": "MtEPgOf4dzDG"
      }
    },
    {
      "cell_type": "code",
      "source": [
        "!pip install keras-tuner"
      ],
      "metadata": {
        "colab": {
          "base_uri": "https://localhost:8080/"
        },
        "id": "FfT7leDUdamE",
        "outputId": "56ce1218-be20-4056-80ce-9e328d7d658b"
      },
      "execution_count": 225,
      "outputs": [
        {
          "output_type": "stream",
          "name": "stdout",
          "text": [
            "Requirement already satisfied: keras-tuner in /usr/local/lib/python3.10/dist-packages (1.4.6)\n",
            "Requirement already satisfied: keras in /usr/local/lib/python3.10/dist-packages (from keras-tuner) (2.15.0)\n",
            "Requirement already satisfied: packaging in /usr/local/lib/python3.10/dist-packages (from keras-tuner) (23.2)\n",
            "Requirement already satisfied: requests in /usr/local/lib/python3.10/dist-packages (from keras-tuner) (2.31.0)\n",
            "Requirement already satisfied: kt-legacy in /usr/local/lib/python3.10/dist-packages (from keras-tuner) (1.0.5)\n",
            "Requirement already satisfied: charset-normalizer<4,>=2 in /usr/local/lib/python3.10/dist-packages (from requests->keras-tuner) (3.3.2)\n",
            "Requirement already satisfied: idna<4,>=2.5 in /usr/local/lib/python3.10/dist-packages (from requests->keras-tuner) (3.6)\n",
            "Requirement already satisfied: urllib3<3,>=1.21.1 in /usr/local/lib/python3.10/dist-packages (from requests->keras-tuner) (2.0.7)\n",
            "Requirement already satisfied: certifi>=2017.4.17 in /usr/local/lib/python3.10/dist-packages (from requests->keras-tuner) (2024.2.2)\n"
          ]
        }
      ]
    },
    {
      "cell_type": "code",
      "source": [
        "def build_model(hp):\n",
        "  model = Sequential([\n",
        "    layers.Dense(\n",
        "        units=hp.Int('dense_1_units', min_value=32, max_value=512, step=16),\n",
        "        activation=hp.Choice('dense_1_activation',values= ['relu','selu','tanh','elu','sigmoid']),\n",
        "        input_dim=4\n",
        "    ),\n",
        "    layers.Dense(3, activation='softmax')\n",
        "  ])\n",
        "\n",
        "  model.compile(optimizer=tf.keras.optimizers.Adam(hp.Choice('learning_rate', values=[0.0001,0.0003,0.001,0.003,0.01])),\n",
        "              loss='sparse_categorical_crossentropy',\n",
        "              metrics=['accuracy'])\n",
        "\n",
        "  return model"
      ],
      "metadata": {
        "id": "cJN_Zb-bd-dA"
      },
      "execution_count": 226,
      "outputs": []
    },
    {
      "cell_type": "code",
      "source": [
        "from kerastuner import RandomSearch\n",
        "from kerastuner.engine.hyperparameters import HyperParameters"
      ],
      "metadata": {
        "id": "o060dccYfeDq"
      },
      "execution_count": 227,
      "outputs": []
    },
    {
      "cell_type": "markdown",
      "source": [
        "# **Search for the best Hyperparameters**"
      ],
      "metadata": {
        "id": "QfzWdGqqfhqs"
      }
    },
    {
      "cell_type": "code",
      "source": [
        "tuner_search = RandomSearch(build_model,objective='val_accuracy',max_trials=15,directory='output',project_name='Iris_Classification_System_1.0')"
      ],
      "metadata": {
        "colab": {
          "base_uri": "https://localhost:8080/"
        },
        "id": "jQzygftHfpBu",
        "outputId": "f3a53b10-80a8-4cc6-8478-b9c369b4c134"
      },
      "execution_count": 228,
      "outputs": [
        {
          "output_type": "stream",
          "name": "stdout",
          "text": [
            "Reloading Tuner from output/Iris_Classification_System_1.0/tuner0.json\n"
          ]
        }
      ]
    },
    {
      "cell_type": "code",
      "source": [
        "tuner_search.search(x_train,y_train,epochs=3,validation_split=0.1)"
      ],
      "metadata": {
        "id": "RctXzWkXfecp"
      },
      "execution_count": 229,
      "outputs": []
    },
    {
      "cell_type": "code",
      "source": [
        "model = tuner_search.get_best_models(num_models=1)[0]"
      ],
      "metadata": {
        "id": "__8XaoWPfvqb"
      },
      "execution_count": 230,
      "outputs": []
    },
    {
      "cell_type": "code",
      "source": [
        "model.summary()"
      ],
      "metadata": {
        "colab": {
          "base_uri": "https://localhost:8080/"
        },
        "id": "kaiN2iZMf4S0",
        "outputId": "b4902bb5-c648-4648-8298-325560003bfc"
      },
      "execution_count": 231,
      "outputs": [
        {
          "output_type": "stream",
          "name": "stdout",
          "text": [
            "Model: \"sequential\"\n",
            "_________________________________________________________________\n",
            " Layer (type)                Output Shape              Param #   \n",
            "=================================================================\n",
            " dense (Dense)               (None, 272)               1360      \n",
            "                                                                 \n",
            " dense_1 (Dense)             (None, 3)                 819       \n",
            "                                                                 \n",
            "=================================================================\n",
            "Total params: 2179 (8.51 KB)\n",
            "Trainable params: 2179 (8.51 KB)\n",
            "Non-trainable params: 0 (0.00 Byte)\n",
            "_________________________________________________________________\n"
          ]
        }
      ]
    },
    {
      "cell_type": "markdown",
      "source": [
        "# **Fitting the Model**"
      ],
      "metadata": {
        "id": "JHgBt610gAc-"
      }
    },
    {
      "cell_type": "code",
      "source": [
        "model.fit(x_train,y_train,validation_data=(x_test,y_test),epochs=150,initial_epoch=3)"
      ],
      "metadata": {
        "colab": {
          "base_uri": "https://localhost:8080/"
        },
        "id": "J_Vf_xj1f7GU",
        "outputId": "fd9840c1-8199-4ec6-fdbf-b84d09297f5d"
      },
      "execution_count": 232,
      "outputs": [
        {
          "output_type": "stream",
          "name": "stdout",
          "text": [
            "Epoch 4/150\n",
            "5/5 [==============================] - 1s 55ms/step - loss: 0.5010 - accuracy: 0.8380 - val_loss: 0.4892 - val_accuracy: 0.6250\n",
            "Epoch 5/150\n",
            "5/5 [==============================] - 0s 9ms/step - loss: 0.3354 - accuracy: 0.8592 - val_loss: 0.3496 - val_accuracy: 0.7500\n",
            "Epoch 6/150\n",
            "5/5 [==============================] - 0s 8ms/step - loss: 0.2696 - accuracy: 0.8732 - val_loss: 0.1929 - val_accuracy: 1.0000\n",
            "Epoch 7/150\n",
            "5/5 [==============================] - 0s 8ms/step - loss: 0.2048 - accuracy: 0.9225 - val_loss: 0.2207 - val_accuracy: 0.8750\n",
            "Epoch 8/150\n",
            "5/5 [==============================] - 0s 10ms/step - loss: 0.1861 - accuracy: 0.8873 - val_loss: 0.1727 - val_accuracy: 1.0000\n",
            "Epoch 9/150\n",
            "5/5 [==============================] - 0s 9ms/step - loss: 0.1301 - accuracy: 0.9507 - val_loss: 0.0651 - val_accuracy: 1.0000\n",
            "Epoch 10/150\n",
            "5/5 [==============================] - 0s 9ms/step - loss: 0.1306 - accuracy: 0.9507 - val_loss: 0.0643 - val_accuracy: 1.0000\n",
            "Epoch 11/150\n",
            "5/5 [==============================] - 0s 8ms/step - loss: 0.1001 - accuracy: 0.9789 - val_loss: 0.1019 - val_accuracy: 1.0000\n",
            "Epoch 12/150\n",
            "5/5 [==============================] - 0s 9ms/step - loss: 0.0882 - accuracy: 0.9718 - val_loss: 0.0336 - val_accuracy: 1.0000\n",
            "Epoch 13/150\n",
            "5/5 [==============================] - 0s 10ms/step - loss: 0.0741 - accuracy: 0.9718 - val_loss: 0.0144 - val_accuracy: 1.0000\n",
            "Epoch 14/150\n",
            "5/5 [==============================] - 0s 11ms/step - loss: 0.0800 - accuracy: 0.9577 - val_loss: 0.0236 - val_accuracy: 1.0000\n",
            "Epoch 15/150\n",
            "5/5 [==============================] - 0s 11ms/step - loss: 0.0634 - accuracy: 0.9718 - val_loss: 0.0228 - val_accuracy: 1.0000\n",
            "Epoch 16/150\n",
            "5/5 [==============================] - 0s 17ms/step - loss: 0.0603 - accuracy: 0.9718 - val_loss: 0.0150 - val_accuracy: 1.0000\n",
            "Epoch 17/150\n",
            "5/5 [==============================] - 0s 18ms/step - loss: 0.0571 - accuracy: 0.9718 - val_loss: 0.0147 - val_accuracy: 1.0000\n",
            "Epoch 18/150\n",
            "5/5 [==============================] - 0s 14ms/step - loss: 0.0553 - accuracy: 0.9718 - val_loss: 0.0101 - val_accuracy: 1.0000\n",
            "Epoch 19/150\n",
            "5/5 [==============================] - 0s 8ms/step - loss: 0.0618 - accuracy: 0.9789 - val_loss: 0.0054 - val_accuracy: 1.0000\n",
            "Epoch 20/150\n",
            "5/5 [==============================] - 0s 9ms/step - loss: 0.0557 - accuracy: 0.9789 - val_loss: 0.0111 - val_accuracy: 1.0000\n",
            "Epoch 21/150\n",
            "5/5 [==============================] - 0s 9ms/step - loss: 0.0567 - accuracy: 0.9718 - val_loss: 0.0107 - val_accuracy: 1.0000\n",
            "Epoch 22/150\n",
            "5/5 [==============================] - 0s 9ms/step - loss: 0.0483 - accuracy: 0.9789 - val_loss: 0.0051 - val_accuracy: 1.0000\n",
            "Epoch 23/150\n",
            "5/5 [==============================] - 0s 9ms/step - loss: 0.0531 - accuracy: 0.9859 - val_loss: 0.0046 - val_accuracy: 1.0000\n",
            "Epoch 24/150\n",
            "5/5 [==============================] - 0s 8ms/step - loss: 0.0482 - accuracy: 0.9859 - val_loss: 0.0096 - val_accuracy: 1.0000\n",
            "Epoch 25/150\n",
            "5/5 [==============================] - 0s 10ms/step - loss: 0.0496 - accuracy: 0.9718 - val_loss: 0.0048 - val_accuracy: 1.0000\n",
            "Epoch 26/150\n",
            "5/5 [==============================] - 0s 9ms/step - loss: 0.0501 - accuracy: 0.9789 - val_loss: 0.0050 - val_accuracy: 1.0000\n",
            "Epoch 27/150\n",
            "5/5 [==============================] - 0s 8ms/step - loss: 0.0550 - accuracy: 0.9718 - val_loss: 0.0082 - val_accuracy: 1.0000\n",
            "Epoch 28/150\n",
            "5/5 [==============================] - 0s 9ms/step - loss: 0.0470 - accuracy: 0.9789 - val_loss: 0.0038 - val_accuracy: 1.0000\n",
            "Epoch 29/150\n",
            "5/5 [==============================] - 0s 9ms/step - loss: 0.0533 - accuracy: 0.9859 - val_loss: 0.0029 - val_accuracy: 1.0000\n",
            "Epoch 30/150\n",
            "5/5 [==============================] - 0s 8ms/step - loss: 0.0409 - accuracy: 0.9859 - val_loss: 0.0068 - val_accuracy: 1.0000\n",
            "Epoch 31/150\n",
            "5/5 [==============================] - 0s 9ms/step - loss: 0.0574 - accuracy: 0.9718 - val_loss: 0.0063 - val_accuracy: 1.0000\n",
            "Epoch 32/150\n",
            "5/5 [==============================] - 0s 9ms/step - loss: 0.0585 - accuracy: 0.9718 - val_loss: 0.0018 - val_accuracy: 1.0000\n",
            "Epoch 33/150\n",
            "5/5 [==============================] - 0s 9ms/step - loss: 0.0509 - accuracy: 0.9859 - val_loss: 0.0057 - val_accuracy: 1.0000\n",
            "Epoch 34/150\n",
            "5/5 [==============================] - 0s 14ms/step - loss: 0.0567 - accuracy: 0.9718 - val_loss: 0.0047 - val_accuracy: 1.0000\n",
            "Epoch 35/150\n",
            "5/5 [==============================] - 0s 8ms/step - loss: 0.0583 - accuracy: 0.9718 - val_loss: 0.0016 - val_accuracy: 1.0000\n",
            "Epoch 36/150\n",
            "5/5 [==============================] - 0s 8ms/step - loss: 0.0438 - accuracy: 0.9859 - val_loss: 0.0043 - val_accuracy: 1.0000\n",
            "Epoch 37/150\n",
            "5/5 [==============================] - 0s 9ms/step - loss: 0.0529 - accuracy: 0.9718 - val_loss: 0.0052 - val_accuracy: 1.0000\n",
            "Epoch 38/150\n",
            "5/5 [==============================] - 0s 10ms/step - loss: 0.0413 - accuracy: 0.9789 - val_loss: 0.0018 - val_accuracy: 1.0000\n",
            "Epoch 39/150\n",
            "5/5 [==============================] - 0s 8ms/step - loss: 0.0431 - accuracy: 0.9859 - val_loss: 0.0019 - val_accuracy: 1.0000\n",
            "Epoch 40/150\n",
            "5/5 [==============================] - 0s 9ms/step - loss: 0.0424 - accuracy: 0.9859 - val_loss: 0.0023 - val_accuracy: 1.0000\n",
            "Epoch 41/150\n",
            "5/5 [==============================] - 0s 9ms/step - loss: 0.0471 - accuracy: 0.9789 - val_loss: 0.0038 - val_accuracy: 1.0000\n",
            "Epoch 42/150\n",
            "5/5 [==============================] - 0s 9ms/step - loss: 0.0460 - accuracy: 0.9859 - val_loss: 0.0016 - val_accuracy: 1.0000\n",
            "Epoch 43/150\n",
            "5/5 [==============================] - 0s 9ms/step - loss: 0.0410 - accuracy: 0.9859 - val_loss: 0.0024 - val_accuracy: 1.0000\n",
            "Epoch 44/150\n",
            "5/5 [==============================] - 0s 9ms/step - loss: 0.0401 - accuracy: 0.9859 - val_loss: 0.0022 - val_accuracy: 1.0000\n",
            "Epoch 45/150\n",
            "5/5 [==============================] - 0s 8ms/step - loss: 0.0399 - accuracy: 0.9859 - val_loss: 0.0022 - val_accuracy: 1.0000\n",
            "Epoch 46/150\n",
            "5/5 [==============================] - 0s 9ms/step - loss: 0.0435 - accuracy: 0.9859 - val_loss: 0.0012 - val_accuracy: 1.0000\n",
            "Epoch 47/150\n",
            "5/5 [==============================] - 0s 9ms/step - loss: 0.0502 - accuracy: 0.9789 - val_loss: 0.0012 - val_accuracy: 1.0000\n",
            "Epoch 48/150\n",
            "5/5 [==============================] - 0s 10ms/step - loss: 0.0522 - accuracy: 0.9789 - val_loss: 0.0058 - val_accuracy: 1.0000\n",
            "Epoch 49/150\n",
            "5/5 [==============================] - 0s 9ms/step - loss: 0.0490 - accuracy: 0.9789 - val_loss: 0.0016 - val_accuracy: 1.0000\n",
            "Epoch 50/150\n",
            "5/5 [==============================] - 0s 9ms/step - loss: 0.0650 - accuracy: 0.9648 - val_loss: 8.8266e-04 - val_accuracy: 1.0000\n",
            "Epoch 51/150\n",
            "5/5 [==============================] - 0s 9ms/step - loss: 0.0527 - accuracy: 0.9789 - val_loss: 0.0060 - val_accuracy: 1.0000\n",
            "Epoch 52/150\n",
            "5/5 [==============================] - 0s 9ms/step - loss: 0.0622 - accuracy: 0.9718 - val_loss: 0.0014 - val_accuracy: 1.0000\n",
            "Epoch 53/150\n",
            "5/5 [==============================] - 0s 9ms/step - loss: 0.0439 - accuracy: 0.9859 - val_loss: 0.0011 - val_accuracy: 1.0000\n",
            "Epoch 54/150\n",
            "5/5 [==============================] - 0s 9ms/step - loss: 0.0394 - accuracy: 0.9859 - val_loss: 0.0017 - val_accuracy: 1.0000\n",
            "Epoch 55/150\n",
            "5/5 [==============================] - 0s 8ms/step - loss: 0.0456 - accuracy: 0.9859 - val_loss: 0.0030 - val_accuracy: 1.0000\n",
            "Epoch 56/150\n",
            "5/5 [==============================] - 0s 9ms/step - loss: 0.0442 - accuracy: 0.9789 - val_loss: 0.0010 - val_accuracy: 1.0000\n",
            "Epoch 57/150\n",
            "5/5 [==============================] - 0s 10ms/step - loss: 0.0407 - accuracy: 0.9859 - val_loss: 0.0010 - val_accuracy: 1.0000\n",
            "Epoch 58/150\n",
            "5/5 [==============================] - 0s 9ms/step - loss: 0.0426 - accuracy: 0.9859 - val_loss: 0.0018 - val_accuracy: 1.0000\n",
            "Epoch 59/150\n",
            "5/5 [==============================] - 0s 9ms/step - loss: 0.0382 - accuracy: 0.9859 - val_loss: 8.3842e-04 - val_accuracy: 1.0000\n",
            "Epoch 60/150\n",
            "5/5 [==============================] - 0s 9ms/step - loss: 0.0438 - accuracy: 0.9789 - val_loss: 0.0011 - val_accuracy: 1.0000\n",
            "Epoch 61/150\n",
            "5/5 [==============================] - 0s 10ms/step - loss: 0.0388 - accuracy: 0.9859 - val_loss: 0.0011 - val_accuracy: 1.0000\n",
            "Epoch 62/150\n",
            "5/5 [==============================] - 0s 8ms/step - loss: 0.0352 - accuracy: 0.9859 - val_loss: 0.0023 - val_accuracy: 1.0000\n",
            "Epoch 63/150\n",
            "5/5 [==============================] - 0s 9ms/step - loss: 0.0421 - accuracy: 0.9859 - val_loss: 0.0016 - val_accuracy: 1.0000\n",
            "Epoch 64/150\n",
            "5/5 [==============================] - 0s 9ms/step - loss: 0.0489 - accuracy: 0.9859 - val_loss: 6.8165e-04 - val_accuracy: 1.0000\n",
            "Epoch 65/150\n",
            "5/5 [==============================] - 0s 9ms/step - loss: 0.0367 - accuracy: 0.9859 - val_loss: 0.0016 - val_accuracy: 1.0000\n",
            "Epoch 66/150\n",
            "5/5 [==============================] - 0s 8ms/step - loss: 0.0379 - accuracy: 0.9859 - val_loss: 0.0019 - val_accuracy: 1.0000\n",
            "Epoch 67/150\n",
            "5/5 [==============================] - 0s 8ms/step - loss: 0.0435 - accuracy: 0.9859 - val_loss: 0.0016 - val_accuracy: 1.0000\n",
            "Epoch 68/150\n",
            "5/5 [==============================] - 0s 9ms/step - loss: 0.0392 - accuracy: 0.9859 - val_loss: 7.9761e-04 - val_accuracy: 1.0000\n",
            "Epoch 69/150\n",
            "5/5 [==============================] - 0s 9ms/step - loss: 0.0369 - accuracy: 0.9859 - val_loss: 0.0011 - val_accuracy: 1.0000\n",
            "Epoch 70/150\n",
            "5/5 [==============================] - 0s 8ms/step - loss: 0.0371 - accuracy: 0.9859 - val_loss: 0.0014 - val_accuracy: 1.0000\n",
            "Epoch 71/150\n",
            "5/5 [==============================] - 0s 9ms/step - loss: 0.0445 - accuracy: 0.9859 - val_loss: 0.0022 - val_accuracy: 1.0000\n",
            "Epoch 72/150\n",
            "5/5 [==============================] - 0s 9ms/step - loss: 0.0415 - accuracy: 0.9859 - val_loss: 5.5935e-04 - val_accuracy: 1.0000\n",
            "Epoch 73/150\n",
            "5/5 [==============================] - 0s 13ms/step - loss: 0.0506 - accuracy: 0.9718 - val_loss: 0.0013 - val_accuracy: 1.0000\n",
            "Epoch 74/150\n",
            "5/5 [==============================] - 0s 25ms/step - loss: 0.0516 - accuracy: 0.9789 - val_loss: 0.0030 - val_accuracy: 1.0000\n",
            "Epoch 75/150\n",
            "5/5 [==============================] - 0s 21ms/step - loss: 0.0380 - accuracy: 0.9789 - val_loss: 7.1845e-04 - val_accuracy: 1.0000\n",
            "Epoch 76/150\n",
            "5/5 [==============================] - 0s 29ms/step - loss: 0.0628 - accuracy: 0.9718 - val_loss: 7.1467e-04 - val_accuracy: 1.0000\n",
            "Epoch 77/150\n",
            "5/5 [==============================] - 0s 19ms/step - loss: 0.0457 - accuracy: 0.9789 - val_loss: 0.0040 - val_accuracy: 1.0000\n",
            "Epoch 78/150\n",
            "5/5 [==============================] - 0s 19ms/step - loss: 0.0468 - accuracy: 0.9789 - val_loss: 0.0017 - val_accuracy: 1.0000\n",
            "Epoch 79/150\n",
            "5/5 [==============================] - 0s 22ms/step - loss: 0.0312 - accuracy: 0.9930 - val_loss: 6.7598e-04 - val_accuracy: 1.0000\n",
            "Epoch 80/150\n",
            "5/5 [==============================] - 0s 15ms/step - loss: 0.0391 - accuracy: 0.9859 - val_loss: 8.9045e-04 - val_accuracy: 1.0000\n",
            "Epoch 81/150\n",
            "5/5 [==============================] - 0s 19ms/step - loss: 0.0393 - accuracy: 0.9789 - val_loss: 0.0016 - val_accuracy: 1.0000\n",
            "Epoch 82/150\n",
            "5/5 [==============================] - 0s 22ms/step - loss: 0.0364 - accuracy: 0.9859 - val_loss: 7.9766e-04 - val_accuracy: 1.0000\n",
            "Epoch 83/150\n",
            "5/5 [==============================] - 0s 18ms/step - loss: 0.0372 - accuracy: 0.9859 - val_loss: 0.0011 - val_accuracy: 1.0000\n",
            "Epoch 84/150\n",
            "5/5 [==============================] - 0s 18ms/step - loss: 0.0369 - accuracy: 0.9859 - val_loss: 0.0012 - val_accuracy: 1.0000\n",
            "Epoch 85/150\n",
            "5/5 [==============================] - 0s 21ms/step - loss: 0.0330 - accuracy: 0.9859 - val_loss: 7.8319e-04 - val_accuracy: 1.0000\n",
            "Epoch 86/150\n",
            "5/5 [==============================] - 0s 24ms/step - loss: 0.0374 - accuracy: 0.9859 - val_loss: 0.0011 - val_accuracy: 1.0000\n",
            "Epoch 87/150\n",
            "5/5 [==============================] - 0s 18ms/step - loss: 0.0369 - accuracy: 0.9930 - val_loss: 0.0021 - val_accuracy: 1.0000\n",
            "Epoch 88/150\n",
            "5/5 [==============================] - 0s 19ms/step - loss: 0.0358 - accuracy: 0.9859 - val_loss: 8.0981e-04 - val_accuracy: 1.0000\n",
            "Epoch 89/150\n",
            "5/5 [==============================] - 0s 20ms/step - loss: 0.0424 - accuracy: 0.9859 - val_loss: 6.9729e-04 - val_accuracy: 1.0000\n",
            "Epoch 90/150\n",
            "5/5 [==============================] - 0s 16ms/step - loss: 0.0385 - accuracy: 0.9789 - val_loss: 0.0017 - val_accuracy: 1.0000\n",
            "Epoch 91/150\n",
            "5/5 [==============================] - 0s 18ms/step - loss: 0.0322 - accuracy: 0.9930 - val_loss: 7.7436e-04 - val_accuracy: 1.0000\n",
            "Epoch 92/150\n",
            "5/5 [==============================] - 0s 29ms/step - loss: 0.0364 - accuracy: 0.9859 - val_loss: 5.7305e-04 - val_accuracy: 1.0000\n",
            "Epoch 93/150\n",
            "5/5 [==============================] - 0s 20ms/step - loss: 0.0366 - accuracy: 0.9859 - val_loss: 9.1717e-04 - val_accuracy: 1.0000\n",
            "Epoch 94/150\n",
            "5/5 [==============================] - 0s 17ms/step - loss: 0.0346 - accuracy: 0.9859 - val_loss: 6.9266e-04 - val_accuracy: 1.0000\n",
            "Epoch 95/150\n",
            "5/5 [==============================] - 0s 19ms/step - loss: 0.0350 - accuracy: 0.9859 - val_loss: 0.0013 - val_accuracy: 1.0000\n",
            "Epoch 96/150\n",
            "5/5 [==============================] - 0s 20ms/step - loss: 0.0320 - accuracy: 0.9859 - val_loss: 0.0011 - val_accuracy: 1.0000\n",
            "Epoch 97/150\n",
            "5/5 [==============================] - 0s 27ms/step - loss: 0.0318 - accuracy: 0.9859 - val_loss: 8.5963e-04 - val_accuracy: 1.0000\n",
            "Epoch 98/150\n",
            "5/5 [==============================] - 0s 22ms/step - loss: 0.0300 - accuracy: 0.9859 - val_loss: 0.0010 - val_accuracy: 1.0000\n",
            "Epoch 99/150\n",
            "5/5 [==============================] - 0s 22ms/step - loss: 0.0308 - accuracy: 0.9859 - val_loss: 7.8496e-04 - val_accuracy: 1.0000\n",
            "Epoch 100/150\n",
            "5/5 [==============================] - 0s 17ms/step - loss: 0.0291 - accuracy: 0.9859 - val_loss: 7.9866e-04 - val_accuracy: 1.0000\n",
            "Epoch 101/150\n",
            "5/5 [==============================] - 0s 17ms/step - loss: 0.0282 - accuracy: 0.9859 - val_loss: 9.1563e-04 - val_accuracy: 1.0000\n",
            "Epoch 102/150\n",
            "5/5 [==============================] - 0s 17ms/step - loss: 0.0308 - accuracy: 0.9859 - val_loss: 8.8605e-04 - val_accuracy: 1.0000\n",
            "Epoch 103/150\n",
            "5/5 [==============================] - 0s 18ms/step - loss: 0.0359 - accuracy: 0.9859 - val_loss: 0.0012 - val_accuracy: 1.0000\n",
            "Epoch 104/150\n",
            "5/5 [==============================] - 0s 24ms/step - loss: 0.0317 - accuracy: 0.9859 - val_loss: 6.4283e-04 - val_accuracy: 1.0000\n",
            "Epoch 105/150\n",
            "5/5 [==============================] - 0s 29ms/step - loss: 0.0293 - accuracy: 0.9930 - val_loss: 0.0011 - val_accuracy: 1.0000\n",
            "Epoch 106/150\n",
            "5/5 [==============================] - 0s 24ms/step - loss: 0.0292 - accuracy: 0.9930 - val_loss: 0.0010 - val_accuracy: 1.0000\n",
            "Epoch 107/150\n",
            "5/5 [==============================] - 0s 17ms/step - loss: 0.0278 - accuracy: 0.9859 - val_loss: 6.7476e-04 - val_accuracy: 1.0000\n",
            "Epoch 108/150\n",
            "5/5 [==============================] - 0s 13ms/step - loss: 0.0283 - accuracy: 0.9859 - val_loss: 6.7794e-04 - val_accuracy: 1.0000\n",
            "Epoch 109/150\n",
            "5/5 [==============================] - 0s 17ms/step - loss: 0.0273 - accuracy: 0.9930 - val_loss: 8.9574e-04 - val_accuracy: 1.0000\n",
            "Epoch 110/150\n",
            "5/5 [==============================] - 0s 20ms/step - loss: 0.0263 - accuracy: 0.9859 - val_loss: 6.2711e-04 - val_accuracy: 1.0000\n",
            "Epoch 111/150\n",
            "5/5 [==============================] - 0s 24ms/step - loss: 0.0261 - accuracy: 0.9859 - val_loss: 7.6877e-04 - val_accuracy: 1.0000\n",
            "Epoch 112/150\n",
            "5/5 [==============================] - 0s 23ms/step - loss: 0.0267 - accuracy: 0.9930 - val_loss: 7.6145e-04 - val_accuracy: 1.0000\n",
            "Epoch 113/150\n",
            "5/5 [==============================] - 0s 29ms/step - loss: 0.0307 - accuracy: 0.9859 - val_loss: 6.1729e-04 - val_accuracy: 1.0000\n",
            "Epoch 114/150\n",
            "5/5 [==============================] - 0s 26ms/step - loss: 0.0353 - accuracy: 0.9859 - val_loss: 0.0010 - val_accuracy: 1.0000\n",
            "Epoch 115/150\n",
            "5/5 [==============================] - 0s 20ms/step - loss: 0.0230 - accuracy: 0.9930 - val_loss: 4.4487e-04 - val_accuracy: 1.0000\n",
            "Epoch 116/150\n",
            "5/5 [==============================] - 0s 27ms/step - loss: 0.0355 - accuracy: 0.9859 - val_loss: 9.2459e-04 - val_accuracy: 1.0000\n",
            "Epoch 117/150\n",
            "5/5 [==============================] - 0s 12ms/step - loss: 0.0273 - accuracy: 0.9930 - val_loss: 9.7840e-04 - val_accuracy: 1.0000\n",
            "Epoch 118/150\n",
            "5/5 [==============================] - 0s 16ms/step - loss: 0.0275 - accuracy: 0.9930 - val_loss: 4.4140e-04 - val_accuracy: 1.0000\n",
            "Epoch 119/150\n",
            "5/5 [==============================] - 0s 24ms/step - loss: 0.0269 - accuracy: 0.9859 - val_loss: 5.5046e-04 - val_accuracy: 1.0000\n",
            "Epoch 120/150\n",
            "5/5 [==============================] - 0s 24ms/step - loss: 0.0238 - accuracy: 0.9859 - val_loss: 8.5135e-04 - val_accuracy: 1.0000\n",
            "Epoch 121/150\n",
            "5/5 [==============================] - 0s 19ms/step - loss: 0.0252 - accuracy: 0.9859 - val_loss: 0.0014 - val_accuracy: 1.0000\n",
            "Epoch 122/150\n",
            "5/5 [==============================] - 0s 18ms/step - loss: 0.0287 - accuracy: 0.9859 - val_loss: 5.6803e-04 - val_accuracy: 1.0000\n",
            "Epoch 123/150\n",
            "5/5 [==============================] - 0s 17ms/step - loss: 0.0290 - accuracy: 0.9859 - val_loss: 4.1040e-04 - val_accuracy: 1.0000\n",
            "Epoch 124/150\n",
            "5/5 [==============================] - 0s 30ms/step - loss: 0.0221 - accuracy: 0.9859 - val_loss: 7.5912e-04 - val_accuracy: 1.0000\n",
            "Epoch 125/150\n",
            "5/5 [==============================] - 0s 29ms/step - loss: 0.0252 - accuracy: 0.9930 - val_loss: 7.6153e-04 - val_accuracy: 1.0000\n",
            "Epoch 126/150\n",
            "5/5 [==============================] - 0s 37ms/step - loss: 0.0271 - accuracy: 0.9859 - val_loss: 4.5918e-04 - val_accuracy: 1.0000\n",
            "Epoch 127/150\n",
            "5/5 [==============================] - 0s 31ms/step - loss: 0.0241 - accuracy: 0.9859 - val_loss: 8.4034e-04 - val_accuracy: 1.0000\n",
            "Epoch 128/150\n",
            "5/5 [==============================] - 0s 24ms/step - loss: 0.0276 - accuracy: 0.9859 - val_loss: 4.6053e-04 - val_accuracy: 1.0000\n",
            "Epoch 129/150\n",
            "5/5 [==============================] - 0s 17ms/step - loss: 0.0211 - accuracy: 0.9930 - val_loss: 6.7511e-04 - val_accuracy: 1.0000\n",
            "Epoch 130/150\n",
            "5/5 [==============================] - 0s 17ms/step - loss: 0.0295 - accuracy: 0.9930 - val_loss: 0.0010 - val_accuracy: 1.0000\n",
            "Epoch 131/150\n",
            "5/5 [==============================] - 0s 18ms/step - loss: 0.0340 - accuracy: 0.9789 - val_loss: 4.5844e-04 - val_accuracy: 1.0000\n",
            "Epoch 132/150\n",
            "5/5 [==============================] - 0s 19ms/step - loss: 0.0296 - accuracy: 0.9859 - val_loss: 0.0029 - val_accuracy: 1.0000\n",
            "Epoch 133/150\n",
            "5/5 [==============================] - 0s 26ms/step - loss: 0.0362 - accuracy: 0.9859 - val_loss: 5.6274e-04 - val_accuracy: 1.0000\n",
            "Epoch 134/150\n",
            "5/5 [==============================] - 0s 24ms/step - loss: 0.0319 - accuracy: 0.9859 - val_loss: 4.7842e-04 - val_accuracy: 1.0000\n",
            "Epoch 135/150\n",
            "5/5 [==============================] - 0s 19ms/step - loss: 0.0198 - accuracy: 0.9930 - val_loss: 0.0012 - val_accuracy: 1.0000\n",
            "Epoch 136/150\n",
            "5/5 [==============================] - 0s 23ms/step - loss: 0.0313 - accuracy: 0.9859 - val_loss: 0.0014 - val_accuracy: 1.0000\n",
            "Epoch 137/150\n",
            "5/5 [==============================] - 0s 19ms/step - loss: 0.0201 - accuracy: 0.9930 - val_loss: 4.6134e-04 - val_accuracy: 1.0000\n",
            "Epoch 138/150\n",
            "5/5 [==============================] - 0s 32ms/step - loss: 0.0249 - accuracy: 0.9930 - val_loss: 3.2324e-04 - val_accuracy: 1.0000\n",
            "Epoch 139/150\n",
            "5/5 [==============================] - 0s 38ms/step - loss: 0.0242 - accuracy: 0.9859 - val_loss: 6.7757e-04 - val_accuracy: 1.0000\n",
            "Epoch 140/150\n",
            "5/5 [==============================] - 0s 28ms/step - loss: 0.0210 - accuracy: 0.9859 - val_loss: 6.8987e-04 - val_accuracy: 1.0000\n",
            "Epoch 141/150\n",
            "5/5 [==============================] - 0s 37ms/step - loss: 0.0215 - accuracy: 0.9930 - val_loss: 5.0073e-04 - val_accuracy: 1.0000\n",
            "Epoch 142/150\n",
            "5/5 [==============================] - 0s 32ms/step - loss: 0.0191 - accuracy: 0.9930 - val_loss: 2.6844e-04 - val_accuracy: 1.0000\n",
            "Epoch 143/150\n",
            "5/5 [==============================] - 0s 30ms/step - loss: 0.0224 - accuracy: 0.9930 - val_loss: 3.7872e-04 - val_accuracy: 1.0000\n",
            "Epoch 144/150\n",
            "5/5 [==============================] - 0s 34ms/step - loss: 0.0188 - accuracy: 0.9930 - val_loss: 5.8633e-04 - val_accuracy: 1.0000\n",
            "Epoch 145/150\n",
            "5/5 [==============================] - 0s 31ms/step - loss: 0.0201 - accuracy: 0.9930 - val_loss: 3.5809e-04 - val_accuracy: 1.0000\n",
            "Epoch 146/150\n",
            "5/5 [==============================] - 0s 34ms/step - loss: 0.0185 - accuracy: 0.9930 - val_loss: 3.9114e-04 - val_accuracy: 1.0000\n",
            "Epoch 147/150\n",
            "5/5 [==============================] - 0s 40ms/step - loss: 0.0164 - accuracy: 0.9930 - val_loss: 2.9924e-04 - val_accuracy: 1.0000\n",
            "Epoch 148/150\n",
            "5/5 [==============================] - 0s 44ms/step - loss: 0.0165 - accuracy: 0.9930 - val_loss: 2.9829e-04 - val_accuracy: 1.0000\n",
            "Epoch 149/150\n",
            "5/5 [==============================] - 0s 36ms/step - loss: 0.0166 - accuracy: 1.0000 - val_loss: 3.4690e-04 - val_accuracy: 1.0000\n",
            "Epoch 150/150\n",
            "5/5 [==============================] - 0s 44ms/step - loss: 0.0237 - accuracy: 0.9859 - val_loss: 4.6330e-04 - val_accuracy: 1.0000\n"
          ]
        },
        {
          "output_type": "execute_result",
          "data": {
            "text/plain": [
              "<keras.src.callbacks.History at 0x782978eeaec0>"
            ]
          },
          "metadata": {},
          "execution_count": 232
        }
      ]
    },
    {
      "cell_type": "markdown",
      "source": [
        "# **Evaluating the Model**"
      ],
      "metadata": {
        "id": "3B9Z4XMvgQoz"
      }
    },
    {
      "cell_type": "code",
      "source": [
        "score = model.evaluate(x_test,y_test)"
      ],
      "metadata": {
        "colab": {
          "base_uri": "https://localhost:8080/"
        },
        "id": "WbBaqVJDgGys",
        "outputId": "9ad75a99-d8b6-4bb3-cca7-fbdd7e793cc6"
      },
      "execution_count": 233,
      "outputs": [
        {
          "output_type": "stream",
          "name": "stdout",
          "text": [
            "1/1 [==============================] - 0s 87ms/step - loss: 4.6330e-04 - accuracy: 1.0000\n"
          ]
        }
      ]
    },
    {
      "cell_type": "code",
      "source": [
        "print(f\"Accuracy of the model is: {score[1]*100:0.2f}%\")"
      ],
      "metadata": {
        "colab": {
          "base_uri": "https://localhost:8080/"
        },
        "id": "4ykMCXg_gVbe",
        "outputId": "c1898180-b008-4f81-84f8-fceed1e94311"
      },
      "execution_count": 234,
      "outputs": [
        {
          "output_type": "stream",
          "name": "stdout",
          "text": [
            "Accuracy of the model is: 100.00%\n"
          ]
        }
      ]
    }
  ]
}